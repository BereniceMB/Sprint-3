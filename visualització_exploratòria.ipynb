{
 "cells": [
  {
   "cell_type": "markdown",
   "id": "a2368236",
   "metadata": {},
   "source": [
    "# S03 T02: _Visualització gràfica de Múltiples variables_\n",
    "\n",
    "### Descripción: _Anem a practicar i a familiaritzar-nos amb la Visualització gràfica de Múltiples variables._"
   ]
  },
  {
   "cell_type": "markdown",
   "id": "bc456c46",
   "metadata": {},
   "source": [
    "## Nivel 1\n",
    "- Exercici 1\n",
    "Realitza la pràctica del notebook a GitHub \"03 EXAMINING DATA\" amb seaborn i el dataset \"tips\"."
   ]
  },
  {
   "cell_type": "markdown",
   "id": "70de95c8",
   "metadata": {},
   "source": [
    "## Nivel 2\n",
    "- Exercici 2\n",
    "Repeteix l'exercici 1 amb el dataset que disposem en el repositori de GitHub PRE-PROCESSING-DATA, movies.dat"
   ]
  },
  {
   "cell_type": "markdown",
   "id": "2fcfa964",
   "metadata": {},
   "source": [
    "## Nivel 3\n",
    "- Exercici 3\n",
    "En aquest exercici no us donarem gaires indicacions perquè volem que ens mostreu la vostra creativitat. Sorprèn-me amb gràfiques i interpretacions del dataset \"movies.dat\" del exercici anterior."
   ]
  },
  {
   "cell_type": "code",
   "execution_count": null,
   "id": "c17f534a",
   "metadata": {},
   "outputs": [],
   "source": []
  }
 ],
 "metadata": {
  "kernelspec": {
   "display_name": "Python 3 (ipykernel)",
   "language": "python",
   "name": "python3"
  },
  "language_info": {
   "codemirror_mode": {
    "name": "ipython",
    "version": 3
   },
   "file_extension": ".py",
   "mimetype": "text/x-python",
   "name": "python",
   "nbconvert_exporter": "python",
   "pygments_lexer": "ipython3",
   "version": "3.9.7"
  }
 },
 "nbformat": 4,
 "nbformat_minor": 5
}
